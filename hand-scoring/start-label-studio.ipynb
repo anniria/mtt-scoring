{
 "cells": [
  {
   "cell_type": "markdown",
   "metadata": {},
   "source": [
    "# Label Studio for Hand Scoring Data \n",
    "\n",
    "This code sets a workflow for hand scoring the narratives in terms of the Autobiographical Interview (Levine, 2002)."
   ]
  },
  {
   "cell_type": "markdown",
   "metadata": {},
   "source": [
    "### Install Label Studio\n",
    "\n",
    "Label Studio is an open-source data labeling tool, which we use for hand-scoring our data. Please run the following code to install label studio, then create an account. You only need to run the following code snippet, when you are using this script for the first time."
   ]
  },
  {
   "cell_type": "code",
   "execution_count": null,
   "metadata": {},
   "outputs": [],
   "source": [
    "# install label studio\n",
    "!pip install label-studio\n",
    "!pip install label-studio-sdk"
   ]
  },
  {
   "cell_type": "markdown",
   "metadata": {},
   "source": [
    "### Start Label Studio\n",
    "\n",
    "You can start Label Studio in your browser using [this link](http://localhost:8080) or the following code snippet to either create an account or log in to your account."
   ]
  },
  {
   "cell_type": "code",
   "execution_count": null,
   "metadata": {},
   "outputs": [],
   "source": [
    "# start label studio\n",
    "!label-studio"
   ]
  },
  {
   "cell_type": "markdown",
   "metadata": {},
   "source": [
    "### Authentication\n",
    "\n",
    "To run the following snippets, we need an authentication. You can find your API key on your Account page, please insert the key into the following code snippet, if you want to authenticate. "
   ]
  },
  {
   "cell_type": "code",
   "execution_count": null,
   "metadata": {},
   "outputs": [],
   "source": [
    "# define Label Studio URL\n",
    "LABEL_STUDIO_URL = 'http://localhost:8080'\n",
    "\n",
    "# define API key\n",
    "API_KEY = 'your_key_here'\n",
    "\n",
    "# import client module \n",
    "from label_studio_sdk.client import LabelStudio\n",
    "\n",
    "# connect to API \n",
    "ls = LabelStudio(base_url=LABEL_STUDIO_URL, api_key=API_KEY)"
   ]
  },
  {
   "cell_type": "markdown",
   "metadata": {},
   "source": [
    "### Create Project \n",
    "\n",
    "With the following code, a project for manually scoring the Autobiographical Interview is created. "
   ]
  },
  {
   "cell_type": "code",
   "execution_count": null,
   "metadata": {},
   "outputs": [],
   "source": [
    "# create project\n",
    "\n",
    "project = ls.projects.create(\n",
    "    title='AI-scoring'\n",
    ")"
   ]
  }
 ],
 "metadata": {
  "kernelspec": {
   "display_name": "dings",
   "language": "python",
   "name": "python3"
  },
  "language_info": {
   "codemirror_mode": {
    "name": "ipython",
    "version": 3
   },
   "file_extension": ".py",
   "mimetype": "text/x-python",
   "name": "python",
   "nbconvert_exporter": "python",
   "pygments_lexer": "ipython3",
   "version": "3.9.19"
  }
 },
 "nbformat": 4,
 "nbformat_minor": 2
}
