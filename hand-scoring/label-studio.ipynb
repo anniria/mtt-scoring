{
 "cells": [
  {
   "cell_type": "markdown",
   "metadata": {},
   "source": [
    "# Scoring by Hand\n",
    "\n",
    "This code sets a workflow for hand scoring the narratives in terms of the Autobiographical Interview (Levine, 2002)."
   ]
  },
  {
   "cell_type": "markdown",
   "metadata": {},
   "source": [
    "### Install Label Studio\n",
    "\n",
    "Label Studio is an open-source data labeling tool, which we use for hand-scoring our data. Please run the following code to install label studio, then create an account. You only need to run the following code snippet, when you are using this script for the first time. Label Studio will run as a local web server on your computer. All data, annotations, and configurations are saved locally on your computer by default."
   ]
  },
  {
   "cell_type": "code",
   "execution_count": null,
   "metadata": {},
   "outputs": [],
   "source": [
    "# install label studio\n",
    "!pip install label-studio\n",
    "!pip install label-studio-sdk"
   ]
  },
  {
   "cell_type": "markdown",
   "metadata": {},
   "source": [
    "### Start Label Studio\n",
    "\n",
    "After installing, you can start Label Studio in your browser using [this link](http://localhost:8080/user/login/) or running the following code snippet. (You have to stop cell execution manually after Label Studio has been opened.)"
   ]
  },
  {
   "cell_type": "code",
   "execution_count": null,
   "metadata": {},
   "outputs": [],
   "source": [
    "# start label studio\n",
    "!label-studio"
   ]
  },
  {
   "cell_type": "markdown",
   "metadata": {},
   "source": [
    "### Authentication\n",
    "\n",
    "To run the following snippets to create a project, import, and export data, we need an authentication. You can find your API key on your account page. Please insert the key into the following code snippet, if you want to authenticate. Otherwise you can also create a project und upload your data manually. "
   ]
  },
  {
   "cell_type": "code",
   "execution_count": 2,
   "metadata": {},
   "outputs": [],
   "source": [
    "# import client module \n",
    "from label_studio_sdk import Client\n",
    "\n",
    "# define Label Studio URL\n",
    "label_studio_url = 'http://localhost:8080'\n",
    "\n",
    "# define API key\n",
    "token = 'INSERT_YOUR_KEY'\n",
    "\n",
    "# connect to API \n",
    "ls = Client(url=label_studio_url, api_key=token)"
   ]
  },
  {
   "cell_type": "markdown",
   "metadata": {},
   "source": [
    "### Create Project \n",
    "\n",
    "With the following code, a project for manually scoring narratives using the scoring method of the Autobiographical Interview (Levine, 2002) is created. You need a  config-file that contains labels to run this code. "
   ]
  },
  {
   "cell_type": "code",
   "execution_count": null,
   "metadata": {},
   "outputs": [],
   "source": [
    "# create project\n",
    "\n",
    "# define path for label configuration file\n",
    "config_path = \"config.xml\"\n",
    "# load configuration\n",
    "with open(config_path, 'r') as file:\n",
    "    configuration = file.read()\n",
    "\n",
    "project = ls.create_project(\n",
    "    title='ai-scoring',\n",
    "    description=\"Project to score narratives using the Autobiographical Interview method (Levine, 2002)\",\n",
    "    label_config=configuration\n",
    ")"
   ]
  },
  {
   "cell_type": "markdown",
   "metadata": {},
   "source": [
    "### Import Data\n",
    "\n",
    "You can import your data manually, or using the following code snippet. Note that you have to insert the path to your data file and your project ID."
   ]
  },
  {
   "cell_type": "code",
   "execution_count": 4,
   "metadata": {},
   "outputs": [],
   "source": [
    "import requests\n",
    "\n",
    "# define path for data file\n",
    "csv_path = \"INSERT_FILE_PATH\"\n",
    "\n",
    "# define API and project details\n",
    "project_id = INSERT_YOUR_ID\n",
    "url = f\"http://localhost:8080/api/projects/{project_id}/import\"\n",
    "\n",
    "# import data\n",
    "with open(csv_path, \"rb\") as file:\n",
    "    response = requests.post(url, headers={\"Authorization\": f\"Token {token}\"}, files={\"file\": file})"
   ]
  },
  {
   "cell_type": "markdown",
   "metadata": {},
   "source": [
    "### Export Data\n",
    "\n",
    "After labeling, you can export your data by clicking on \"Export\" and selecting \"CSV\"."
   ]
  }
 ],
 "metadata": {
  "kernelspec": {
   "display_name": "dings",
   "language": "python",
   "name": "python3"
  },
  "language_info": {
   "codemirror_mode": {
    "name": "ipython",
    "version": 3
   },
   "file_extension": ".py",
   "mimetype": "text/x-python",
   "name": "python",
   "nbconvert_exporter": "python",
   "pygments_lexer": "ipython3",
   "version": "3.9.19"
  }
 },
 "nbformat": 4,
 "nbformat_minor": 2
}
