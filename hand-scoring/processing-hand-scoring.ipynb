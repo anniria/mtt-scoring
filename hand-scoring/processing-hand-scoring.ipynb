{
 "cells": [
  {
   "cell_type": "markdown",
   "metadata": {},
   "source": [
    "# Processing of Hand Scored Data\n",
    "\n",
    "This code is used to process the data set that was scored by hand using Label Studio to prepare it for statistical analysis in R. "
   ]
  },
  {
   "cell_type": "code",
   "execution_count": 16,
   "metadata": {},
   "outputs": [],
   "source": [
    "# import packages\n",
    "import pandas as pd\n",
    "import re\n",
    "import ast\n",
    "from collections import Counter"
   ]
  },
  {
   "cell_type": "code",
   "execution_count": null,
   "metadata": {},
   "outputs": [],
   "source": [
    "# import data \n",
    "data = pd.read_csv(\"../data/scored/hand_scored_raw.csv\") \n",
    "\n",
    "# create dataframe with relevant variables\n",
    "selected = ['ID', 'text', 'lbl', 'group', 'WC']  \n",
    "data_selected = data[selected]\n",
    "\n",
    "# convert variable lbl to dictionary list (if necessary)\n",
    "data_selected['lbl'] = data_selected['lbl'].apply(lambda x: ast.literal_eval(x) if isinstance(x, str) else x)"
   ]
  },
  {
   "cell_type": "code",
   "execution_count": 18,
   "metadata": {},
   "outputs": [],
   "source": [
    "# defining a function to count the labels \n",
    "def count_labels(row):\n",
    "    labels = [label for item in row for label in item['labels']]\n",
    "    counts = Counter(labels)\n",
    "    return counts\n",
    "\n",
    "# apply function \n",
    "data_selected['label_counts'] = data_selected['lbl'].apply(lambda row: count_labels(row, ref_labels))"
   ]
  },
  {
   "cell_type": "code",
   "execution_count": 19,
   "metadata": {},
   "outputs": [],
   "source": [
    "# extract counts from label_counts\n",
    "label_data = data_selected['label_counts'].apply(lambda x: dict(x))\n",
    "\n",
    "# mutate dictionaries into columns\n",
    "label_df = pd.json_normalize(label_data)\n",
    "\n",
    "# rename variables\n",
    "label_df = label_df.rename (columns={\n",
    "    \"event\": \"int_event\",\n",
    "    \"time\" : \"int_time\",\n",
    "    \"place\": \"int_place\",\n",
    "    \"perception\": \"int_perc\", \n",
    "    \"emotion\\\\/thought\": \"int_emo\",\n",
    "    \"ext:event\": \"ext_event\",\n",
    "    \"ext:semantic\": \"ext_sem\",\n",
    "    \"ext:repetition\": \"ext_rep\",\n",
    "    \"ext:other\": \"ext_other\"\n",
    "})\n",
    "\n",
    "## add columns to dataframe\n",
    "data_labelled = pd.concat([data_selected, label_df], axis=1)\n",
    "\n",
    "# replace NA values with 0 \n",
    "data_labelled = data_labelled.fillna(0)"
   ]
  },
  {
   "cell_type": "code",
   "execution_count": 20,
   "metadata": {},
   "outputs": [],
   "source": [
    "# now we add two new variables with counts for internal and external details\n",
    "\n",
    "# filter internal and external details columns\n",
    "internal_columns = [col for col in label_df.columns if col.startswith('int_')]\n",
    "external_columns = [col for col in label_df.columns if col.startswith('ext_')]\n",
    "\n",
    "# sum up counts for internal and external columns, each in a new variable\n",
    "data_labelled['internal_details'] = data_labelled[internal_columns].sum(axis=1)\n",
    "data_labelled['external_details'] = data_labelled[external_columns].sum(axis=1)"
   ]
  },
  {
   "cell_type": "code",
   "execution_count": null,
   "metadata": {},
   "outputs": [],
   "source": [
    "# save data\n",
    "\n",
    "# create dataframe with relevant variables\n",
    "dropped = ['text', 'lbl', 'label_counts'] \n",
    "data_final = data_labelled.drop(columns=dropped)\n",
    "\n",
    "# save as csv file\n",
    "data_final.to_csv('../data/scored/hand_scored.csv', index=False)"
   ]
  }
 ],
 "metadata": {
  "kernelspec": {
   "display_name": "dings",
   "language": "python",
   "name": "python3"
  },
  "language_info": {
   "codemirror_mode": {
    "name": "ipython",
    "version": 3
   },
   "file_extension": ".py",
   "mimetype": "text/x-python",
   "name": "python",
   "nbconvert_exporter": "python",
   "pygments_lexer": "ipython3",
   "version": "3.9.19"
  }
 },
 "nbformat": 4,
 "nbformat_minor": 2
}
